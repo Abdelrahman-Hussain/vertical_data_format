{
 "cells": [
  {
   "cell_type": "code",
   "execution_count": 33,
   "id": "294f29f5",
   "metadata": {},
   "outputs": [],
   "source": [
    "import pandas as pd\n",
    "import itertools"
   ]
  },
  {
   "cell_type": "code",
   "execution_count": 34,
   "id": "475d1e01",
   "metadata": {},
   "outputs": [],
   "source": [
    "dataset = pd.read_excel(\"CoffeeShopTransactions.xlsx\")"
   ]
  },
  {
   "cell_type": "code",
   "execution_count": 35,
   "id": "e07d005a",
   "metadata": {},
   "outputs": [
    {
     "name": "stdout",
     "output_type": "stream",
     "text": [
      "Enter Minimum support (integer): 2\n",
      "Enter Minimum confidence: 0.5\n"
     ]
    }
   ],
   "source": [
    "sup = int(input(\"Enter Minimum support (integer): \"))\n",
    "input_conf = float(input(\"Enter Minimum confidence (double): \"))"
   ]
  },
  {
   "cell_type": "code",
   "execution_count": 36,
   "id": "5b4991cb",
   "metadata": {},
   "outputs": [
    {
     "data": {
      "text/html": [
       "<div>\n",
       "<style scoped>\n",
       "    .dataframe tbody tr th:only-of-type {\n",
       "        vertical-align: middle;\n",
       "    }\n",
       "\n",
       "    .dataframe tbody tr th {\n",
       "        vertical-align: top;\n",
       "    }\n",
       "\n",
       "    .dataframe thead th {\n",
       "        text-align: right;\n",
       "    }\n",
       "</style>\n",
       "<table border=\"1\" class=\"dataframe\">\n",
       "  <thead>\n",
       "    <tr style=\"text-align: right;\">\n",
       "      <th></th>\n",
       "      <th>Date</th>\n",
       "      <th>Time</th>\n",
       "      <th>Transaction Number</th>\n",
       "      <th>Item 1</th>\n",
       "      <th>Item 2</th>\n",
       "      <th>Item 3</th>\n",
       "    </tr>\n",
       "  </thead>\n",
       "  <tbody>\n",
       "    <tr>\n",
       "      <th>0</th>\n",
       "      <td>2016-10-30</td>\n",
       "      <td>10:07:57</td>\n",
       "      <td>1</td>\n",
       "      <td>Hot chocolate</td>\n",
       "      <td>CaramelBites</td>\n",
       "      <td>Mineral water</td>\n",
       "    </tr>\n",
       "    <tr>\n",
       "      <th>1</th>\n",
       "      <td>2016-10-30</td>\n",
       "      <td>10:07:57</td>\n",
       "      <td>2</td>\n",
       "      <td>Cookies</td>\n",
       "      <td>CaramelBites</td>\n",
       "      <td>CaramelBites</td>\n",
       "    </tr>\n",
       "    <tr>\n",
       "      <th>2</th>\n",
       "      <td>2016-10-30</td>\n",
       "      <td>10:13:03</td>\n",
       "      <td>3</td>\n",
       "      <td>Coffee</td>\n",
       "      <td>Chocolates</td>\n",
       "      <td>Brownie</td>\n",
       "    </tr>\n",
       "    <tr>\n",
       "      <th>3</th>\n",
       "      <td>2016-10-30</td>\n",
       "      <td>10:19:12</td>\n",
       "      <td>4</td>\n",
       "      <td>Coffee</td>\n",
       "      <td>Brownie</td>\n",
       "      <td>Tea</td>\n",
       "    </tr>\n",
       "    <tr>\n",
       "      <th>4</th>\n",
       "      <td>2016-10-30</td>\n",
       "      <td>10:19:12</td>\n",
       "      <td>5</td>\n",
       "      <td>Tea</td>\n",
       "      <td>Cookies</td>\n",
       "      <td>Cake</td>\n",
       "    </tr>\n",
       "  </tbody>\n",
       "</table>\n",
       "</div>"
      ],
      "text/plain": [
       "        Date      Time  Transaction Number         Item 1        Item 2  \\\n",
       "0 2016-10-30  10:07:57                   1  Hot chocolate  CaramelBites   \n",
       "1 2016-10-30  10:07:57                   2        Cookies  CaramelBites   \n",
       "2 2016-10-30  10:13:03                   3         Coffee    Chocolates   \n",
       "3 2016-10-30  10:19:12                   4         Coffee       Brownie   \n",
       "4 2016-10-30  10:19:12                   5            Tea       Cookies   \n",
       "\n",
       "          Item 3  \n",
       "0  Mineral water  \n",
       "1   CaramelBites  \n",
       "2        Brownie  \n",
       "3            Tea  \n",
       "4           Cake  "
      ]
     },
     "execution_count": 36,
     "metadata": {},
     "output_type": "execute_result"
    }
   ],
   "source": [
    "dataset.head()"
   ]
  },
  {
   "cell_type": "code",
   "execution_count": 37,
   "id": "53e3c8b7",
   "metadata": {},
   "outputs": [
    {
     "data": {
      "text/html": [
       "<div>\n",
       "<style scoped>\n",
       "    .dataframe tbody tr th:only-of-type {\n",
       "        vertical-align: middle;\n",
       "    }\n",
       "\n",
       "    .dataframe tbody tr th {\n",
       "        vertical-align: top;\n",
       "    }\n",
       "\n",
       "    .dataframe thead th {\n",
       "        text-align: right;\n",
       "    }\n",
       "</style>\n",
       "<table border=\"1\" class=\"dataframe\">\n",
       "  <thead>\n",
       "    <tr style=\"text-align: right;\">\n",
       "      <th></th>\n",
       "      <th>Item 1</th>\n",
       "      <th>Item 2</th>\n",
       "      <th>Item 3</th>\n",
       "    </tr>\n",
       "  </thead>\n",
       "  <tbody>\n",
       "    <tr>\n",
       "      <th>0</th>\n",
       "      <td>Hot chocolate</td>\n",
       "      <td>CaramelBites</td>\n",
       "      <td>Mineral water</td>\n",
       "    </tr>\n",
       "    <tr>\n",
       "      <th>1</th>\n",
       "      <td>Cookies</td>\n",
       "      <td>CaramelBites</td>\n",
       "      <td>CaramelBites</td>\n",
       "    </tr>\n",
       "    <tr>\n",
       "      <th>2</th>\n",
       "      <td>Coffee</td>\n",
       "      <td>Chocolates</td>\n",
       "      <td>Brownie</td>\n",
       "    </tr>\n",
       "    <tr>\n",
       "      <th>3</th>\n",
       "      <td>Coffee</td>\n",
       "      <td>Brownie</td>\n",
       "      <td>Tea</td>\n",
       "    </tr>\n",
       "    <tr>\n",
       "      <th>4</th>\n",
       "      <td>Tea</td>\n",
       "      <td>Cookies</td>\n",
       "      <td>Cake</td>\n",
       "    </tr>\n",
       "  </tbody>\n",
       "</table>\n",
       "</div>"
      ],
      "text/plain": [
       "          Item 1        Item 2         Item 3\n",
       "0  Hot chocolate  CaramelBites  Mineral water\n",
       "1        Cookies  CaramelBites   CaramelBites\n",
       "2         Coffee    Chocolates        Brownie\n",
       "3         Coffee       Brownie            Tea\n",
       "4            Tea       Cookies           Cake"
      ]
     },
     "execution_count": 37,
     "metadata": {},
     "output_type": "execute_result"
    }
   ],
   "source": [
    "items = dataset[['Item 1','Item 2','Item 3']].copy()\n",
    "items.head()"
   ]
  },
  {
   "cell_type": "code",
   "execution_count": 38,
   "id": "3b846549",
   "metadata": {},
   "outputs": [],
   "source": [
    "vertical_data={}"
   ]
  },
  {
   "cell_type": "code",
   "execution_count": 40,
   "id": "e2e6f2a6",
   "metadata": {},
   "outputs": [],
   "source": [
    "for i in range(items.shape[0]):\n",
    "    for j in range(3):\n",
    "        if(vertical_data.get(items.iloc[i][j])):\n",
    "            vertical_data[items.iloc[i][j]].append(str(i))#make it string\n",
    "        else:\n",
    "            vertical_data[items.iloc[i][j]] = [str(i)]"
   ]
  },
  {
   "cell_type": "code",
   "execution_count": 41,
   "id": "5000e4e2",
   "metadata": {},
   "outputs": [],
   "source": [
    "sup_count = {}\n",
    "for item in vertical_data:\n",
    "    sup_count[item] = len(vertical_data[item])"
   ]
  },
  {
   "cell_type": "code",
   "execution_count": 43,
   "id": "b0dd0c80",
   "metadata": {},
   "outputs": [],
   "source": [
    "def intersect_list(l1,l2):\n",
    "    return list(set(l1)&set(l2))"
   ]
  },
  {
   "cell_type": "code",
   "execution_count": 44,
   "id": "6496a5ea",
   "metadata": {},
   "outputs": [],
   "source": [
    "def list_def(a,b):\n",
    "    return list(set(a)-set(b))"
   ]
  },
  {
   "cell_type": "code",
   "execution_count": 45,
   "id": "4cc27943",
   "metadata": {},
   "outputs": [],
   "source": [
    "def list_to_str(l):\n",
    "    l_list = list(l)\n",
    "    l_list.sort()\n",
    "    return ','.join(l_list)"
   ]
  },
  {
   "cell_type": "code",
   "execution_count": 46,
   "id": "6a733a88",
   "metadata": {},
   "outputs": [],
   "source": [
    "def str_to_list(s):\n",
    "    return s.split(',')"
   ]
  },
  {
   "cell_type": "code",
   "execution_count": 47,
   "id": "7cb52c1c",
   "metadata": {},
   "outputs": [],
   "source": [
    "new_vertical_data = {}\n",
    "all_key_list = []\n",
    "frequent_item_set = {}\n",
    "key_set = set()\n",
    "iteration = 0\n",
    "while 1:\n",
    "    iteration+=1\n",
    "    vertical_data_copy = vertical_data.copy()\n",
    "    for item in vertical_data_copy:\n",
    "        if(len(vertical_data_copy[item])<sup):\n",
    "            del vertical_data[item]\n",
    "    all_key_list = list(vertical_data.keys())\n",
    "    for i in range(len(all_key_list)):\n",
    "        for j in range(len(all_key_list)):\n",
    "            if(j>i):\n",
    "                key_set.update(str_to_list(all_key_list[i]))\n",
    "                key_set.update(str_to_list(all_key_list[j]))\n",
    "                if(len(key_set)==iteration+1):\n",
    "                    key_set_str = list_to_str(key_set)\n",
    "                    new_vertical_data[key_set_str] = intersect_list(vertical_data[all_key_list[i]] , vertical_data[all_key_list[j]])\n",
    "                    sup_count[key_set_str] =  len(new_vertical_data[key_set_str])\n",
    "                key_set = set()\n",
    "\n",
    "    con = False\n",
    "    for item in new_vertical_data:\n",
    "        if(len(new_vertical_data[item])>=sup):\n",
    "            vertical_data = new_vertical_data\n",
    "            new_vertical_data = {}\n",
    "            con = True\n",
    "            break\n",
    "    if(not con):\n",
    "        frequent_item_set = vertical_data\n",
    "        break\n",
    "    "
   ]
  },
  {
   "cell_type": "code",
   "execution_count": 48,
   "id": "1a2a2a36",
   "metadata": {},
   "outputs": [],
   "source": [
    "frequent_item_set_keys = list(frequent_item_set.keys())\n",
    "strong_association_rules = []"
   ]
  },
  {
   "cell_type": "code",
   "execution_count": 77,
   "id": "7b36eb7b",
   "metadata": {},
   "outputs": [
    {
     "name": "stdout",
     "output_type": "stream",
     "text": [
      "+++++++++++++++++++++++++++++++++++++++++++++++++++++++++\n",
      "++++++++++          Frequent item sets          +++++++++\n",
      "+++++++++++++++++++++++++++++++++++++++++++++++++++++++++\n",
      "+ CaramelBites,Hot chocolate,Mineral water              +\n",
      "+ CaramelBites,Cookies,Hot chocolate                    +\n",
      "+ CaramelBites,Coffee,Hot chocolate                     +\n",
      "+ CaramelBites,Chocolates,Hot chocolate                 +\n",
      "+ Brownie,CaramelBites,Hot chocolate                    +\n",
      "+ CaramelBites,Hot chocolate,Tea                        +\n",
      "+ Cake,CaramelBites,Hot chocolate                       +\n",
      "+ CaramelBites,Hot chocolate,Juice                      +\n",
      "+ Cookies,Hot chocolate,Mineral water                   +\n",
      "+ Coffee,Hot chocolate,Mineral water                    +\n",
      "+ Chocolates,Hot chocolate,Mineral water                +\n",
      "+ Brownie,Hot chocolate,Mineral water                   +\n",
      "+ Hot chocolate,Mineral water,Tea                       +\n",
      "+ Cake,Hot chocolate,Mineral water                      +\n",
      "+ Hot chocolate,Juice,Mineral water                     +\n",
      "+ Coffee,Cookies,Hot chocolate                          +\n",
      "+ Chocolates,Cookies,Hot chocolate                      +\n",
      "+ Brownie,Cookies,Hot chocolate                         +\n",
      "+ Cookies,Hot chocolate,Tea                             +\n",
      "+ Cake,Cookies,Hot chocolate                            +\n",
      "+ Cookies,Hot chocolate,Juice                           +\n",
      "+ Chocolates,Coffee,Hot chocolate                       +\n",
      "+ Brownie,Coffee,Hot chocolate                          +\n",
      "+ Coffee,Hot chocolate,Tea                              +\n",
      "+ Cake,Coffee,Hot chocolate                             +\n",
      "+ Coffee,Hot chocolate,Juice                            +\n",
      "+ Brownie,Chocolates,Hot chocolate                      +\n",
      "+ Chocolates,Hot chocolate,Tea                          +\n",
      "+ Cake,Chocolates,Hot chocolate                         +\n",
      "+ Chocolates,Hot chocolate,Juice                        +\n",
      "+ Brownie,Hot chocolate,Tea                             +\n",
      "+ Brownie,Cake,Hot chocolate                            +\n",
      "+ Brownie,Hot chocolate,Juice                           +\n",
      "+ Cake,Hot chocolate,Tea                                +\n",
      "+ Hot chocolate,Juice,Tea                               +\n",
      "+ Caramel bites,Hot chocolate,Tea                       +\n",
      "+ Cake,Hot chocolate,Juice                              +\n",
      "+ CaramelBites,Cookies,Mineral water                    +\n",
      "+ CaramelBites,Coffee,Mineral water                     +\n",
      "+ CaramelBites,Chocolates,Mineral water                 +\n",
      "+ Brownie,CaramelBites,Mineral water                    +\n",
      "+ CaramelBites,Mineral water,Tea                        +\n",
      "+ Cake,CaramelBites,Mineral water                       +\n",
      "+ CaramelBites,Juice,Mineral water                      +\n",
      "+ CaramelBites,Coffee,Cookies                           +\n",
      "+ CaramelBites,Chocolates,Cookies                       +\n",
      "+ Brownie,CaramelBites,Cookies                          +\n",
      "+ CaramelBites,Cookies,Tea                              +\n",
      "+ Cake,CaramelBites,Cookies                             +\n",
      "+ CaramelBites,Cookies,Juice                            +\n",
      "+ CaramelBites,Chocolates,Coffee                        +\n",
      "+ Brownie,CaramelBites,Coffee                           +\n",
      "+ CaramelBites,Coffee,Tea                               +\n",
      "+ Cake,CaramelBites,Coffee                              +\n",
      "+ CaramelBites,Coffee,Juice                             +\n",
      "+ Brownie,CaramelBites,Chocolates                       +\n",
      "+ CaramelBites,Chocolates,Tea                           +\n",
      "+ Cake,CaramelBites,Chocolates                          +\n",
      "+ CaramelBites,Chocolates,Juice                         +\n",
      "+ Brownie,CaramelBites,Tea                              +\n",
      "+ Brownie,Cake,CaramelBites                             +\n",
      "+ Brownie,CaramelBites,Juice                            +\n",
      "+ Cake,CaramelBites,Tea                                 +\n",
      "+ CaramelBites,Juice,Tea                                +\n",
      "+ Cake,CaramelBites,Juice                               +\n",
      "+ Coffee,Cookies,Mineral water                          +\n",
      "+ Chocolates,Cookies,Mineral water                      +\n",
      "+ Brownie,Cookies,Mineral water                         +\n",
      "+ Cookies,Mineral water,Tea                             +\n",
      "+ Cake,Cookies,Mineral water                            +\n",
      "+ Cookies,Juice,Mineral water                           +\n",
      "+ Chocolates,Coffee,Mineral water                       +\n",
      "+ Brownie,Coffee,Mineral water                          +\n",
      "+ Coffee,Mineral water,Tea                              +\n",
      "+ Cake,Coffee,Mineral water                             +\n",
      "+ Coffee,Juice,Mineral water                            +\n",
      "+ Brownie,Chocolates,Mineral water                      +\n",
      "+ Chocolates,Mineral water,Tea                          +\n",
      "+ Cake,Chocolates,Mineral water                         +\n",
      "+ Chocolates,Juice,Mineral water                        +\n",
      "+ Brownie,Mineral water,Tea                             +\n",
      "+ Brownie,Cake,Mineral water                            +\n",
      "+ Brownie,Juice,Mineral water                           +\n",
      "+ Cake,Mineral water,Tea                                +\n",
      "+ Juice,Mineral water,Tea                               +\n",
      "+ Cake,Juice,Mineral water                              +\n",
      "+ Chocolates,Coffee,Cookies                             +\n",
      "+ Brownie,Coffee,Cookies                                +\n",
      "+ Coffee,Cookies,Tea                                    +\n",
      "+ Cake,Coffee,Cookies                                   +\n",
      "+ Coffee,Cookies,Juice                                  +\n",
      "+ Brownie,Chocolates,Cookies                            +\n",
      "+ Chocolates,Cookies,Tea                                +\n",
      "+ Cake,Chocolates,Cookies                               +\n",
      "+ Chocolates,Cookies,Juice                              +\n",
      "+ Brownie,Cookies,Tea                                   +\n",
      "+ Brownie,Cake,Cookies                                  +\n",
      "+ Brownie,Cookies,Juice                                 +\n",
      "+ Cake,Cookies,Tea                                      +\n",
      "+ Cookies,Juice,Tea                                     +\n",
      "+ Cake,Cookies,Juice                                    +\n",
      "+ Brownie,Chocolates,Coffee                             +\n",
      "+ Chocolates,Coffee,Tea                                 +\n",
      "+ Cake,Chocolates,Coffee                                +\n",
      "+ Chocolates,Coffee,Juice                               +\n",
      "+ Brownie,Coffee,Tea                                    +\n",
      "+ Brownie,Cake,Coffee                                   +\n",
      "+ Brownie,Coffee,Juice                                  +\n",
      "+ Cake,Coffee,Tea                                       +\n",
      "+ Coffee,Juice,Tea                                      +\n",
      "+ Cake,Coffee,Juice                                     +\n",
      "+ Brownie,Chocolates,Tea                                +\n",
      "+ Brownie,Cake,Chocolates                               +\n",
      "+ Brownie,Chocolates,Juice                              +\n",
      "+ Cake,Chocolates,Tea                                   +\n",
      "+ Chocolates,Juice,Tea                                  +\n",
      "+ Cake,Chocolates,Juice                                 +\n",
      "+ Brownie,Cake,Tea                                      +\n",
      "+ Brownie,Juice,Tea                                     +\n",
      "+ Brownie,Cake,Juice                                    +\n",
      "+ Cake,Juice,Tea                                        +\n",
      "+++++++++++++++++++++++++++++++++++++++++++++++++++++++++\n"
     ]
    }
   ],
   "source": [
    "print(\"+\"*57)\n",
    "print(\"+\"*10 + \" \"*10 +  \"Frequent item sets\" + \" \"*10 + \"+\"*9)\n",
    "print(\"+\"*57)\n",
    "for frequent_item in frequent_item_set_keys:\n",
    "    print(\"+ \" + frequent_item + \" \"*(54-len(frequent_item)) + \"+\")\n",
    "print(\"+\"*57)"
   ]
  },
  {
   "cell_type": "code",
   "execution_count": 50,
   "id": "8c4135f7",
   "metadata": {},
   "outputs": [],
   "source": [
    "for frequent_item in frequent_item_set_keys:# 'c,a' in ['c,a', 'd,a', 'c,b', 'd,c', 'x,d']\n",
    "    for i in range(len(str_to_list(frequent_item))): #[a,b,c,d] i.e.: 0,1,2,3 we need 1,2 \n",
    "        if(i==0):\n",
    "            continue\n",
    "        for item_combination in itertools.combinations(str_to_list(frequent_item), i):# [a,b,c] -> ('a', 'b') , ('a', 'c') , ...\n",
    "            str_item_combination_A = list_to_str(list(item_combination))# ('a', 'b') -> 'a,b'\n",
    "            str_item_combination_B = list_to_str(list_def(str_to_list(frequent_item),list(item_combination)))\n",
    "            conf = sup_count[frequent_item] / sup_count[str_item_combination_A]\n",
    "            if(conf >= input_conf):\n",
    "                strong_association_rules.append(str_item_combination_A + \" ==> \" + str_item_combination_B)\n",
    "            "
   ]
  },
  {
   "cell_type": "code",
   "execution_count": 51,
   "id": "1157a6b4",
   "metadata": {},
   "outputs": [
    {
     "data": {
      "text/plain": [
       "['Caramel bites ==> Hot chocolate,Tea',\n",
       " 'Caramel bites,Hot chocolate ==> Tea',\n",
       " 'Caramel bites,Tea ==> Hot chocolate',\n",
       " 'CaramelBites,Chocolates ==> Coffee']"
      ]
     },
     "execution_count": 51,
     "metadata": {},
     "output_type": "execute_result"
    }
   ],
   "source": [
    "strong_association_rules"
   ]
  },
  {
   "cell_type": "code",
   "execution_count": 79,
   "id": "f626ec2b",
   "metadata": {},
   "outputs": [
    {
     "name": "stdout",
     "output_type": "stream",
     "text": [
      "*********************************************************\n",
      "**********          Association rules          **********\n",
      "*********************************************************\n",
      "* Caramel bites ==> Hot chocolate,Tea                   *\n",
      "* Caramel bites,Hot chocolate ==> Tea                   *\n",
      "* Caramel bites,Tea ==> Hot chocolate                   *\n",
      "* CaramelBites,Chocolates ==> Coffee                    *\n",
      "*********************************************************\n"
     ]
    }
   ],
   "source": [
    "print(\"*\"*57)\n",
    "print(\"*\"*10 + \" \"*10 +  \"Association rules\" + \" \"*10 + \"*\"*10)\n",
    "print(\"*\"*57)\n",
    "for association_rule in strong_association_rules:\n",
    "    print(\"* \" + association_rule + \" \"*(54-len(association_rule)) + \"*\")\n",
    "print(\"*\"*57)"
   ]
  }
 ],
 "metadata": {
  "kernelspec": {
   "display_name": "Python 3 (ipykernel)",
   "language": "python",
   "name": "python3"
  },
  "language_info": {
   "codemirror_mode": {
    "name": "ipython",
    "version": 3
   },
   "file_extension": ".py",
   "mimetype": "text/x-python",
   "name": "python",
   "nbconvert_exporter": "python",
   "pygments_lexer": "ipython3",
   "version": "3.9.2"
  }
 },
 "nbformat": 4,
 "nbformat_minor": 5
}
